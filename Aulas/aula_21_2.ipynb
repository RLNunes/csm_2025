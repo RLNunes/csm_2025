{
 "cells": [
  {
   "metadata": {},
   "cell_type": "markdown",
   "source": [
    "# This is a sample Jupyter Notebook\n",
    "\n",
    "Below is an example of a code cell. \n",
    "Put your cursor into the cell and press Shift+Enter to execute it and select the next one, or click 'Run Cell' button.\n",
    "\n",
    "Press Double Shift to search everywhere for classes, files, tool windows, actions, and settings.\n",
    "\n",
    "To learn more about Jupyter Notebooks in PyCharm, see [help](https://www.jetbrains.com/help/pycharm/ipython-notebook-support.html).\n",
    "For an overview of PyCharm, go to Help -> Learn IDE features or refer to [our documentation](https://www.jetbrains.com/help/pycharm/getting-started.html)."
   ],
   "id": "8a77807f92f26ee"
  },
  {
   "metadata": {
    "ExecuteTime": {
     "end_time": "2025-02-21T21:54:35.573393Z",
     "start_time": "2025-02-21T21:54:35.541885Z"
    }
   },
   "cell_type": "code",
   "source": "!python --version",
   "id": "9c5b4cfc6ce9db4e",
   "outputs": [
    {
     "name": "stdout",
     "output_type": "stream",
     "text": [
      "Python 3.12.2\n"
     ]
    }
   ],
   "execution_count": 22
  },
  {
   "metadata": {},
   "cell_type": "markdown",
   "source": "",
   "id": "1d2cc674faa8df87"
  },
  {
   "metadata": {
    "ExecuteTime": {
     "end_time": "2025-02-21T21:54:35.646003Z",
     "start_time": "2025-02-21T21:54:35.637408Z"
    }
   },
   "cell_type": "code",
   "source": [
    "import numpy as np\n",
    "import numpy.random as rd\n"
   ],
   "id": "fbc121e30a2defb3",
   "outputs": [],
   "execution_count": 23
  },
  {
   "metadata": {
    "ExecuteTime": {
     "end_time": "2025-02-21T21:54:35.669742Z",
     "start_time": "2025-02-21T21:54:35.663119Z"
    }
   },
   "cell_type": "code",
   "source": [
    "N = 11\n",
    "f = 0.1\n",
    "Pe = 0\n",
    "\n",
    "for n in np.arange((N+1)/2, N+1) :\n",
    "    nA1 = np.arange(n+1, N+1)\n",
    "    nA2 = np.arange(2, N-n+1)\n",
    "    Comb = np.prod(nA1)/np.prod(nA2)\n",
    "    probTmp = f**n*(1-f)**(N-n)*Comb\n",
    "    Pe += probTmp\n",
    "\n",
    "    #print(n)\n",
    "    #print(nA1)\n",
    "    #print(nA2)\n",
    "    #print(n, ':' , probTmp, Comb)\n",
    "\n",
    "#Pe+=pe**N\n",
    "print(Pe)"
   ],
   "id": "748b4ad39ba40e12",
   "outputs": [
    {
     "name": "stdout",
     "output_type": "stream",
     "text": [
      "0.0002957060800000002\n"
     ]
    }
   ],
   "execution_count": 24
  },
  {
   "metadata": {
    "ExecuteTime": {
     "end_time": "2025-02-21T21:54:35.779704Z",
     "start_time": "2025-02-21T21:54:35.690420Z"
    }
   },
   "cell_type": "code",
   "source": [
    "R = (rd.rand(N,10**6) > .9)*1\n",
    "R.shape"
   ],
   "id": "3e3f1c7139623809",
   "outputs": [
    {
     "data": {
      "text/plain": [
       "(11, 1000000)"
      ]
     },
     "execution_count": 25,
     "metadata": {},
     "output_type": "execute_result"
    }
   ],
   "execution_count": 25
  },
  {
   "metadata": {
    "ExecuteTime": {
     "end_time": "2025-02-21T21:54:35.801144Z",
     "start_time": "2025-02-21T21:54:35.787867Z"
    }
   },
   "cell_type": "code",
   "source": "np.sum(np.sum(R, axis=0)>=(N+1)/2)/10**6",
   "id": "dafb7ca656cd4a1b",
   "outputs": [
    {
     "data": {
      "text/plain": [
       "0.000294"
      ]
     },
     "execution_count": 26,
     "metadata": {},
     "output_type": "execute_result"
    }
   ],
   "execution_count": 26
  }
 ],
 "metadata": {
  "kernelspec": {
   "display_name": "Python 3",
   "language": "python",
   "name": "python3"
  },
  "language_info": {
   "codemirror_mode": {
    "name": "ipython",
    "version": 2
   },
   "file_extension": ".py",
   "mimetype": "text/x-python",
   "name": "python",
   "nbconvert_exporter": "python",
   "pygments_lexer": "ipython2",
   "version": "2.7.6"
  }
 },
 "nbformat": 4,
 "nbformat_minor": 5
}
